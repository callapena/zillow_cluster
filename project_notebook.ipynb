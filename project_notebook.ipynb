{
 "cells": [
  {
   "cell_type": "markdown",
   "metadata": {},
   "source": [
    "# Zillow Project - Predict Zestimate (logerror)\n",
    "\n",
    "#### Goals:\n",
    "\n",
    "1. Build a model to predict Zestimate (logerror)\n",
    "\n",
    "2. I.D. what is driving the Zestimate\n",
    "\n",
    "### Planning\n",
    "Pipeline:\n",
    "    \n",
    "   1. ***Acquire*** - Create a sql query that will connect to zillow database. The query will pull data for properties that were sold in 2017, and their Zestimate. The dataframe aquired will give us features to evaluate how they effect the Zestimate target variable.\n",
    "   2. ***Prep*** - Clean NaN values with imputing, and setting qualifying properties for columns and rows with proportions that must be filled. Rename columns to be short and easy to use names. Put features in to proper numeric and catagorical data types. Scale features to be used in explore\n",
    "   3. ***Explore*** - Split prepped dataframe into train and test. Use clustering to find out how different properties, are distributed in the zestimate target. Use statistical tests to find how properties in the dataset are simalar or different. Create new features from dataset, that can give more insight into what influences the value of properites. Find top features that drive Zestimate to create predictive Model\n",
    "   4. ***Model*** - Create predictive models with features evaluated in explore phase. Evaluate models to find closest predictive error to the actual Zestimate."
   ]
  },
  {
   "cell_type": "markdown",
   "metadata": {},
   "source": [
    "### Acquire\n",
    "\n",
    "***sql query***: We created a query that uses the zillow dataset to select properties that were sold in 2017. If a house was sold multiple times in 2017 we only selected the most recent transaction date. The properties_2017 table contained all of the features of homes such as sqft, value, location, etc.\n",
    "\n",
    "In this notebook we will read the dataframe produced by the query from a csv file. If needed included in this project repository is the [acquire file](https://github.com/callapena/zillow_cluster/blob/master/acquire.py) used to query from mysql (will need personal env.py file)."
   ]
  },
  {
   "cell_type": "code",
   "execution_count": 1,
   "metadata": {},
   "outputs": [],
   "source": [
    "# make imports for modules and packages to be used throughout the notebook.\n",
    "import warnings\n",
    "warnings.filterwarnings(\"ignore\")\n",
    "\n",
    "import acquire\n",
    "import prepare\n",
    "\n",
    "import pandas as pd \n",
    "import numpy as np \n",
    "\n",
    "import seaborn as sns\n",
    "sns.set_style('whitegrid')\n",
    "sns.set_palette('husl')\n",
    "import matplotlib.pyplot as plt \n",
    "from matplotlib import cm\n",
    "\n",
    "from sklearn.cluster import KMeans\n",
    "from sklearn.preprocessing import LabelEncoder, StandardScaler\n",
    "from sklearn.model_selection import train_test_split\n",
    "\n",
    "from mpl_toolkits.mplot3d import Axes3D\n"
   ]
  },
  {
   "cell_type": "code",
   "execution_count": 2,
   "metadata": {},
   "outputs": [],
   "source": [
    "# read dataframe from zillow.csv file.\n",
    "zillow = acquire.get_zillow()"
   ]
  },
  {
   "cell_type": "markdown",
   "metadata": {},
   "source": [
    "### Prepare.py"
   ]
  },
  {
   "cell_type": "code",
   "execution_count": 3,
   "metadata": {},
   "outputs": [
    {
     "name": "stdout",
     "output_type": "stream",
     "text": [
      "<class 'pandas.core.frame.DataFrame'>\n",
      "RangeIndex: 52292 entries, 0 to 52291\n",
      "Data columns (total 62 columns):\n",
      "Unnamed: 0                      52292 non-null int64\n",
      "logerror                        52292 non-null float64\n",
      "transactiondate                 52292 non-null object\n",
      "id                              52292 non-null int64\n",
      "parcelid                        52292 non-null int64\n",
      "airconditioningtypeid           13610 non-null float64\n",
      "architecturalstyletypeid        70 non-null float64\n",
      "basementsqft                    47 non-null float64\n",
      "bathroomcnt                     52292 non-null float64\n",
      "bedroomcnt                      52292 non-null float64\n",
      "buildingclasstypeid             0 non-null float64\n",
      "buildingqualitytypeid           33632 non-null float64\n",
      "calculatedbathnbr               52158 non-null float64\n",
      "decktypeid                      388 non-null float64\n",
      "finishedfloor1squarefeet        4368 non-null float64\n",
      "calculatedfinishedsquarefeet    52211 non-null float64\n",
      "finishedsquarefeet12            52047 non-null float64\n",
      "finishedsquarefeet13            0 non-null float64\n",
      "finishedsquarefeet15            0 non-null float64\n",
      "finishedsquarefeet50            4368 non-null float64\n",
      "finishedsquarefeet6             164 non-null float64\n",
      "fips                            52292 non-null float64\n",
      "fireplacecnt                    7230 non-null float64\n",
      "fullbathcnt                     52158 non-null float64\n",
      "garagecarcnt                    17981 non-null float64\n",
      "garagetotalsqft                 17981 non-null float64\n",
      "hashottuborspa                  1514 non-null float64\n",
      "heatingorsystemtypeid           33834 non-null float64\n",
      "latitude                        52292 non-null float64\n",
      "longitude                       52292 non-null float64\n",
      "lotsizesquarefeet               51930 non-null float64\n",
      "poolcnt                         11072 non-null float64\n",
      "poolsizesum                     865 non-null float64\n",
      "pooltypeid10                    443 non-null float64\n",
      "pooltypeid2                     1071 non-null float64\n",
      "pooltypeid7                     9985 non-null float64\n",
      "propertycountylandusecode       52292 non-null object\n",
      "propertylandusetypeid           52292 non-null float64\n",
      "propertyzoningdesc              33738 non-null object\n",
      "rawcensustractandblock          52292 non-null float64\n",
      "regionidcity                    51256 non-null float64\n",
      "regionidcounty                  52292 non-null float64\n",
      "regionidneighborhood            18968 non-null float64\n",
      "regionidzip                     52266 non-null float64\n",
      "roomcnt                         52292 non-null float64\n",
      "storytypeid                     47 non-null float64\n",
      "threequarterbathnbr             6716 non-null float64\n",
      "typeconstructiontypeid          76 non-null float64\n",
      "unitcnt                         33734 non-null float64\n",
      "yardbuildingsqft17              1935 non-null float64\n",
      "yardbuildingsqft26              62 non-null float64\n",
      "yearbuilt                       52178 non-null float64\n",
      "numberofstories                 14528 non-null float64\n",
      "fireplaceflag                   81 non-null float64\n",
      "structuretaxvaluedollarcnt      52213 non-null float64\n",
      "taxvaluedollarcnt               52291 non-null float64\n",
      "assessmentyear                  52292 non-null float64\n",
      "landtaxvaluedollarcnt           52291 non-null float64\n",
      "taxamount                       52288 non-null float64\n",
      "taxdelinquencyflag              2066 non-null object\n",
      "taxdelinquencyyear              2066 non-null float64\n",
      "censustractandblock             52174 non-null float64\n",
      "dtypes: float64(55), int64(3), object(4)\n",
      "memory usage: 24.7+ MB\n"
     ]
    }
   ],
   "source": [
    "# Initial view of dataframe using.info()\n",
    "# rows: 52292\n",
    "# columns: 62\n",
    "zillow.info()"
   ]
  },
  {
   "cell_type": "markdown",
   "metadata": {},
   "source": [
    "***Prepare steps:***\n",
    "1. Drop columns that have less than 10% non-null value, then rows that have less than 60% non-null values\n",
    "2. Drop columns that appear to provide little information:\n",
    "    - `assessmentyear`\n",
    "    - `unitcnt` (all 1)\n",
    "    - `finishedsquarefeet12`\n",
    "    - `propertylandusetypeid`\n",
    "    - `rawcensustractandblock`\n",
    "    - `censustractandblock`\n",
    "    - `threequarterbathnbr`\n",
    "    - `pooltypeid7`\n",
    "    - `roomcnt`\n",
    "    - `buildingqualitytypeid`\n",
    "    - `calculatedbathnbr`\n",
    "3. Drop rows that have 0/null beds, baths, or sqft\n",
    "4. Dictionary for shorter names\n",
    "5. Drop outliers - \n",
    "    - sqft > 10,000 \n",
    "    - lotsizesqft > 3,000\n",
    "    - structurevalue > 1,000,000 or < 0\n",
    "    - beds > 7\n",
    "    - bath > 7\n",
    "    - garage > 5\n",
    "    - stories > 3\n",
    "6. Columns that will be dropped based off of non-null and information gain value:\n",
    "    - `airconditioningtypeid` - Few values in column, 75% missing.\n",
    "    - `fullbathcnt` - Already have similar information in bathcnt that has no non-null values. Will drop because of redundancy.\n",
    "    - `heatingorsystemtypeid` - This will not be a major driver of logerror. Might be added in a later follow up and impute values.\n",
    "    - `propertylandusecodetypeid` - All of these values are single family residential `id: 261`\n",
    "    - `propertycountylandusecode` - Zoning at the county level. Little information gainded from this column.\n",
    "    - `propertyzoningdesc` -Description of the allowed land use(zoning) for that property. Not sure what information is gained from this feature to drive zestimate error.\n",
    "    - `regionidcounty` - Three county values, and same value counts as fips. Will drop because of redundancy.\n",
    "    - `regionidneighborood` - Don't know where these neighborhoods are. Might use in later research if able to plot applicable neighborhoods.\n",
    "    - `regionidzip` - Similar to neighborhood. Not sure where these zips correspond to.\n",
    "    - `number of stories` - Few values in column, 72% missing.\n",
    "7. Imputations - There was a roughly linear correlation between landvalue and lotsize.\n",
    "8. Nulls represent 'no' or 0 - fireplace, pool"
   ]
  },
  {
   "cell_type": "code",
   "execution_count": 4,
   "metadata": {},
   "outputs": [
    {
     "name": "stdout",
     "output_type": "stream",
     "text": [
      "<class 'pandas.core.frame.DataFrame'>\n",
      "Int64Index: 48944 entries, 0 to 52291\n",
      "Data columns (total 18 columns):\n",
      "Unnamed: 0    48944 non-null int64\n",
      "logerror      48944 non-null float64\n",
      "date          48944 non-null object\n",
      "baths         48944 non-null float64\n",
      "beds          48944 non-null float64\n",
      "sqft          48944 non-null float64\n",
      "fips          48944 non-null float64\n",
      "fireplace     48944 non-null int64\n",
      "lat           48944 non-null float64\n",
      "long          48944 non-null float64\n",
      "lotsqft       48944 non-null float64\n",
      "pool          48944 non-null float64\n",
      "city          48944 non-null float64\n",
      "strucvalue    48944 non-null float64\n",
      "value         48944 non-null float64\n",
      "landvalue     48944 non-null float64\n",
      "tax           48940 non-null float64\n",
      "age           48944 non-null float64\n",
      "dtypes: float64(15), int64(2), object(1)\n",
      "memory usage: 8.3+ MB\n"
     ]
    }
   ],
   "source": [
    "# Run prep_zillow from prepare module.\n",
    "# prepped data frame info\n",
    "# rows: 48944\n",
    "# columns: 18\n",
    "zillow = prepare.prep_zillow(zillow)\n",
    "zillow.info()"
   ]
  },
  {
   "cell_type": "markdown",
   "metadata": {},
   "source": [
    "***Data dictionary:***\n",
    "\n",
    "- ***logerror*** - logerror value of Zillow property value estimation (\"zestimate\"). This value was given in the data, and not aware of how zillow got these log values (i.e. base value used and transformations).\n",
    "- ***date*** - transaction date the property was sold.\n",
    "- ***baths*** - number of baths on the property including factional baths.\n",
    "- ***beds*** - number of beds on the property.\n",
    "- ***sqft*** - total finished living area of the home.\n",
    "- ***fips*** -  Federal Information Processing Standard code -  see [wikipedia page - Fips county code](https://en.wikipedia.org/wiki/FIPS_county_code) for more details\n",
    "- ***fireplace*** - Is there a fireplace in this property.\n",
    "- ***lat*** - latitude of the middle of the parcel multiplied by 10e6.\n",
    "- ***long*** - longitude of the middle of the parcel multiplied by 10e6.\n",
    "- ***lotsqft*** - Area of the lot in square feet.\n",
    "- ***pool*** - Is there apool in this property.\n",
    "- ***city*** - In which city is the property located.\n",
    "- ***strucvalue*** - The assessed value of the built structure on the parcel.\n",
    "- ***value*** - The total tax assesed value of the property.\n",
    "- ***landvalue*** - the assvalue of the land area of the property.\n",
    "- ***tax*** - The total property tax for the assessment year.\n",
    "- ***age*** - age of the house from 2017."
   ]
  },
  {
   "cell_type": "code",
   "execution_count": null,
   "metadata": {},
   "outputs": [],
   "source": []
  }
 ],
 "metadata": {
  "kernelspec": {
   "display_name": "Python 3",
   "language": "python",
   "name": "python3"
  },
  "language_info": {
   "codemirror_mode": {
    "name": "ipython",
    "version": 3
   },
   "file_extension": ".py",
   "mimetype": "text/x-python",
   "name": "python",
   "nbconvert_exporter": "python",
   "pygments_lexer": "ipython3",
   "version": "3.7.3"
  }
 },
 "nbformat": 4,
 "nbformat_minor": 2
}
